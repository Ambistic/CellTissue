{
 "cells": [
  {
   "cell_type": "markdown",
   "metadata": {},
   "source": [
    "# Exploring Convergence\n",
    "CBMOS is aimed at performing numerical studies of Center-Based overlapping Spheres Models. In this section, we present a minimal example to demonstrate how the convergence of the Euler forward method for a few non-proliferating cells and for three of the most popular force functions (namely GLS, Cubic and Piecewise Quadratic)  can be studied.\n",
    "\n",
    "## Setup\n",
    "After importing relevant modules, we set up the simulation parameters as well as all three models (one per force function). Each model takes three parameters: the force function to be used, the solver, and the dimension of the model (usually 2 or 3).\n",
    "\n",
    "TODO: add ref to Center based models"
   ]
  },
  {
   "cell_type": "code",
   "execution_count": 1,
   "metadata": {},
   "outputs": [],
   "source": [
    "import cbmos\n",
    "import cbmos.force_functions as ff\n",
    "import cbmos.solvers.euler_forward as ef\n",
    "import cbmos.cell as cl\n",
    "\n",
    "import numpy as np\n",
    "import scipy.interpolate as sci\n",
    "\n",
    "# Simulation parameters\n",
    "s = 1.0    # rest length\n",
    "tf = 4.0  # final time\n",
    "rA = 1.5   # maximum interaction distance\n",
    "dim = 2\n",
    "\n",
    "force_names = ['cubic', 'pw. quad.', 'GLS']\n",
    "\n",
    "solvers = {\n",
    "    'pw. quad.': cbmos.CBMModel(\n",
    "                     ff.PiecewisePolynomial(),\n",
    "                     ef.solve_ivp,\n",
    "                     dim,\n",
    "                 ), \n",
    "    'cubic': cbmos.CBMModel(\n",
    "                 ff.Cubic(),\n",
    "                 ef.solve_ivp,\n",
    "                 dim,\n",
    "              ),\n",
    "    'GLS': cbmos.CBMModel(\n",
    "               ff.Gls(),\n",
    "               ef.solve_ivp,\n",
    "               dim,\n",
    "           ),\n",
    "}"
   ]
  },
  {
   "cell_type": "markdown",
   "metadata": {},
   "source": [
    "## Initial Conditions\n",
    "Then, we create a list a cells using a list of (x, y) coordinates. Each cell takes at least 2 parameters: a (unique) id, and some coordinates. Optional parameters can be used to define if and when each cell should proliferate. In this example, and for the sake of simplicity, we will only not use proliferation. Cells are set to be at 30% of their rest lenght. Once the simulation is launched, the cells will push each other and relax to a new configuration."
   ]
  },
  {
   "cell_type": "code",
   "execution_count": 2,
   "metadata": {},
   "outputs": [],
   "source": [
    "import numpy.random as npr\n",
    "\n",
    "n_x = 5\n",
    "n_y = 5\n",
    "compactness = 0.3\n",
    "\n",
    "initial_sheet = [cl.Cell(i, [compactness*x, compactness*y])\n",
    "         for i, (x, y) in enumerate(\n",
    "             [(x, y) for x in range(n_x) for y in range(n_y)])]"
   ]
  },
  {
   "cell_type": "markdown",
   "metadata": {},
   "source": [
    "## Model Parameters"
   ]
  },
  {
   "cell_type": "code",
   "execution_count": 3,
   "metadata": {},
   "outputs": [],
   "source": [
    "params_cubic = {\"mu\": 5.70, \"s\": s, \"rA\": rA}\n",
    "muR = 9.1\n",
    "ratio = 0.21\n",
    "params_poly = {'muA': ratio*muR, 'muR': muR, 'rA': rA, 'rR': 1.0/(1.0-np.sqrt(ratio)/3.0), 'n': 1.0, 'p': 1.0}\n",
    "mu_gls=1.95\n",
    "params_gls = {'mu': mu_gls, 'a':-2*np.log(0.002/mu_gls)}\n",
    "params = {'cubic': params_cubic, 'pw. quad.': params_poly, 'GLS': params_gls}"
   ]
  },
  {
   "cell_type": "markdown",
   "metadata": {},
   "source": [
    "## Reference Solutions\n",
    "Here we compute the reference solutions for each force functions, using very short timesteps."
   ]
  },
  {
   "cell_type": "code",
   "execution_count": 4,
   "metadata": {},
   "outputs": [],
   "source": [
    "dt_ref = 0.0005\n",
    "N_ref = int(1/dt_ref*tf)+1\n",
    "t_data_ref = np.arange(0, tf, dt_ref)\n",
    "\n",
    "ref_traj = {}\n",
    "for force in force_names: \n",
    "    t_data_ref_sol, history = solvers[force].simulate(initial_sheet, t_data_ref,\n",
    "                                                  params[force], {'dt': dt_ref}, raw_t=True)\n",
    "    ref_traj[force] = {\n",
    "        cell.ID: np.array([cell_list[i].position for cell_list in history])\n",
    "        for i, cell in enumerate(history[0])\n",
    "    }\n",
    "    ref_traj[force] = np.array([[cell.position for cell in cell_list] for cell_list in history]) # (N_ref, n_cells, dim)\n"
   ]
  },
  {
   "cell_type": "markdown",
   "metadata": {},
   "source": [
    "## Error computation"
   ]
  },
  {
   "cell_type": "code",
   "execution_count": 7,
   "metadata": {},
   "outputs": [],
   "source": [
    "dt_values = [0.001*1.25**n for n in range(0, 22)]\n",
    "\n",
    "sol = {'cubic': [], 'pw. quad.': [], 'GLS': []}\n",
    "for dt in dt_values:\n",
    "    N = int(1/dt*tf) + 1\n",
    "    t_data = np.arange(0, tf, dt)\n",
    "    \n",
    "    for force in force_names:\n",
    "        t_data_sol, history = solvers[force].simulate(initial_sheet, t_data, params[force], {'dt': dt}, raw_t=True)\n",
    "        length = min(len(t_data_sol), len(history))\n",
    "        \n",
    "        traj = {\n",
    "            cell.ID: np.array([cell_list[i].position for cell_list in history])\n",
    "            for i, cell in enumerate(history[0])\n",
    "        }\n",
    "        \n",
    "        traj = np.array([[cell.position for cell in cell_list] for cell_list in history]) # (N, n_cells, dim)\n",
    "        interp = sci.interp1d(t_data_sol[:length], traj[:length, :, :],\n",
    "                              axis=0,\n",
    "                              bounds_error=False, fill_value=tuple(traj[[0, length-1], :, :]))(t_data_ref[:])\n",
    "        error = (np.linalg.norm(interp - ref_traj[force], axis=0)\n",
    "                 /np.linalg.norm(ref_traj[force], axis=0)).sum(axis=1)\\\n",
    "                /traj.shape[1]\n",
    "        sol[force].append(error)"
   ]
  },
  {
   "cell_type": "markdown",
   "metadata": {},
   "source": [
    "## Convergence Plot"
   ]
  },
  {
   "cell_type": "code",
   "execution_count": 8,
   "metadata": {},
   "outputs": [
    {
     "data": {
      "text/plain": [
       "(5e-10, 5.0)"
      ]
     },
     "execution_count": 8,
     "metadata": {},
     "output_type": "execute_result"
    },
    {
     "data": {
      "image/png": "[encoded data removed]",
      "text/plain": [
       "<Figure size 486x360 with 1 Axes>"
      ]
     },
     "metadata": {},
     "output_type": "display_data"
    }
   ],
   "source": [
    "import matplotlib.pyplot as plt\n",
    "\n",
    "plt.style.use('seaborn-whitegrid')\n",
    "plt.style.use('tableau-colorblind10')\n",
    "params = {'legend.fontsize': 'xx-large',\n",
    "          'figure.figsize': (6.75, 5),\n",
    "          'lines.linewidth': 3.0,\n",
    "         'axes.labelsize': 'xx-large',\n",
    "         'axes.titlesize':'xx-large',\n",
    "         'xtick.labelsize':'xx-large',\n",
    "         'ytick.labelsize':'xx-large',\n",
    "          'legend.fontsize': 'xx-large',\n",
    "         'font.size': 11,\n",
    "          'font.family': 'serif',\n",
    "          \"mathtext.fontset\": \"dejavuserif\",\n",
    "         'axes.titlepad': 12,\n",
    "        'axes.labelpad': 12}\n",
    "plt.rcParams.update(params)\n",
    "\n",
    "defcolors = plt.rcParams['axes.prop_cycle'].by_key()['color']\n",
    "colors = {'cubic': defcolors[0], 'pw. quad.': defcolors[5], 'GLS': defcolors[6]}\n",
    "linestyles = {'cubic': '-', 'pw. quad.': '--', 'GLS': '-.'}\n",
    "\n",
    "for force in force_names: \n",
    "    plt.loglog(dt_values, np.sum(np.array(sol[force]), axis=1),\n",
    "               label=force, color=colors[force], linestyle=linestyles[force])\n",
    "\n",
    "plt.loglog(dt_values[1:-1], np.array(dt_values[1:-1])*0.2, ':',\n",
    "           label='$f(\\Delta t)= \\Delta t$', color='grey')\n",
    "\n",
    "plt.legend(loc='lower right')\n",
    "plt.title('Euler forward')\n",
    "plt.xlabel('$\\Delta t$')\n",
    "plt.ylabel('$\\epsilon_{rel}$')\n",
    "plt.xlim([7*1e-4, 1.5*1e-1])\n",
    "plt.ylim([5*1e-10, 5*1e-0])"
   ]
  }
 ],
 "metadata": {
  "kernelspec": {
   "display_name": "Python 3",
   "language": "python",
   "name": "python3"
  },
  "language_info": {
   "codemirror_mode": {
    "name": "ipython",
    "version": 3
   },
   "file_extension": ".py",
   "mimetype": "text/x-python",
   "name": "python",
   "nbconvert_exporter": "python",
   "pygments_lexer": "ipython3",
   "version": "3.8.5"
  }
 },
 "nbformat": 4,
 "nbformat_minor": 4
}
